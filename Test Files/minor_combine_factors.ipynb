{
 "cells": [
  {
   "cell_type": "code",
   "execution_count": 1,
   "metadata": {
    "collapsed": false
   },
   "outputs": [
    {
     "name": "stderr",
     "output_type": "stream",
     "text": [
      "/usr/local/lib/python2.7/dist-packages/ipykernel_launcher.py:5: DeprecationWarning: the sets module is deprecated\n",
      "  \"\"\"\n"
     ]
    }
   ],
   "source": [
    "import numpy as np\n",
    "import pandas as pd\n",
    "import matplotlib.pyplot as plt\n",
    "import networkx as nx\n",
    "from sets import Set\n",
    "import random as rd"
   ]
  },
  {
   "cell_type": "code",
   "execution_count": 132,
   "metadata": {
    "collapsed": false
   },
   "outputs": [
    {
     "name": "stdout",
     "output_type": "stream",
     "text": [
      "For maximum TotalScore : \n",
      "              ClassName   ClassCBO  ClassHistory  TotalScore\n",
      "6258  WorkbenchMessages  15.162791    101.492537   84.226588\n",
      "\n",
      "\n",
      "For maximum CBO : \n",
      "     ClassName    ClassCBO  ClassHistory  TotalScore\n",
      "4788       SWT  100.093023           0.0   20.018605\n",
      "\n",
      "\n",
      "For maximum History : \n",
      "              ClassName   ClassCBO  ClassHistory  TotalScore\n",
      "6258  WorkbenchMessages  15.162791    101.492537   84.226588\n"
     ]
    }
   ],
   "source": [
    "class_CBO = np.genfromtxt('class_weight.txt', dtype=None)\n",
    "#class_CBO = list(class_CBO)\n",
    "\n",
    "class_History = np.genfromtxt('history_list.txt', dtype=None)\n",
    "#class_History = list(class_History)\n",
    "\n",
    "class_combined_factors = []\n",
    "for i in np.arange(0, class_CBO.shape[0]):\n",
    "    name = class_CBO[i][1]\n",
    "    CBO = float(class_CBO[i][2])\n",
    "    History = float(class_History[i][1])\n",
    "    total_factor = 0.2*CBO + 0.8*History\n",
    "    combined_factors = [name, CBO, History, total_factor]\n",
    "    class_combined_factors.append(combined_factors)\n",
    "    \n",
    "dataframe = pd.DataFrame(class_combined_factors, columns=['ClassName', 'ClassCBO', 'ClassHistory', 'TotalScore'])\n",
    "\n",
    "dataframe.to_csv('TotalScore.csv', index=False, header=False)\n",
    "\n",
    "print(\"For maximum TotalScore : \")\n",
    "print(dataframe.loc[dataframe['TotalScore'] == max(dataframe.TotalScore)])\n",
    "\n",
    "print(\"\\n\\nFor maximum CBO : \")\n",
    "print(dataframe.loc[dataframe['ClassCBO'] == max(dataframe.ClassCBO)])\n",
    "\n",
    "print(\"\\n\\nFor maximum History : \")\n",
    "print(dataframe.loc[dataframe['ClassHistory'] == max(dataframe.ClassHistory)])"
   ]
  }
 ],
 "metadata": {
  "kernelspec": {
   "display_name": "Python 2",
   "language": "python",
   "name": "python2"
  },
  "language_info": {
   "codemirror_mode": {
    "name": "ipython",
    "version": 2
   },
   "file_extension": ".py",
   "mimetype": "text/x-python",
   "name": "python",
   "nbconvert_exporter": "python",
   "pygments_lexer": "ipython2",
   "version": "2.7.12"
  }
 },
 "nbformat": 4,
 "nbformat_minor": 2
}
