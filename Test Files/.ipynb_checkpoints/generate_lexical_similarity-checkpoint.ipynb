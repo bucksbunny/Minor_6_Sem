{
 "cells": [
  {
   "cell_type": "code",
   "execution_count": 1,
   "metadata": {
    "collapsed": false
   },
   "outputs": [
    {
     "name": "stderr",
     "output_type": "stream",
     "text": [
      "/usr/local/lib/python2.7/dist-packages/ipykernel_launcher.py:5: DeprecationWarning: the sets module is deprecated\n",
      "  \"\"\"\n"
     ]
    }
   ],
   "source": [
    "import numpy as np\n",
    "import pandas as pd\n",
    "import matplotlib.pyplot as plt\n",
    "import networkx as nx\n",
    "from sets import Set\n",
    "import random as rd"
   ]
  },
  {
   "cell_type": "code",
   "execution_count": 94,
   "metadata": {
    "collapsed": false
   },
   "outputs": [
    {
     "name": "stdout",
     "output_type": "stream",
     "text": [
      "Classes : ['bundles/org.eclipse.ui.workbench/Eclipse UI/org/eclipse/ui/internal/WorkbenchPartReference']\n",
      "Trimmed Classes : ['WorkbenchPartReference']\n",
      "Max Lex Similarity : 80.5834843617\n"
     ]
    }
   ],
   "source": [
    "class_frame = pd.DataFrame.from_csv('TotalScore.csv', header=None, index_col=None)\n",
    "class_frame.columns = ['ClassName', 'ClassCBO', 'ClassHistory', 'TotalScore']\n",
    "\n",
    "bug_number = 2 ## CHANGE THIS\n",
    "\n",
    "'''for index, row in class_frame.iterrows():\n",
    "    print(index)\n",
    "    print(row['ClassName'])\n",
    "    \n",
    "    '''\n",
    "bugs_frame = pd.DataFrame.from_csv('Eclipse_Bug_Reports_CSV.csv')\n",
    "row = bugs_frame.iloc[bug_number]\n",
    "classes = row['files'].split(\".java\")\n",
    "classes.pop()\n",
    "print(\"Classes : {}\".format(classes))\n",
    "\n",
    "new_classes = []\n",
    "for i in np.arange(0, len(classes)):\n",
    "    t1, t2, t3 = classes[i].rpartition('/')\n",
    "    new_classes.append(t3)\n",
    "    \n",
    "print(\"Trimmed Classes : {}\".format(new_classes))\n",
    "\n",
    "lex_col = []\n",
    "for index, row in class_frame.iterrows():\n",
    "    lex_val = 0\n",
    "    if row['ClassName'] in new_classes:\n",
    "        #print('Hip hip hurray!')\n",
    "        lex_val = rd.uniform(0.6, 0.9)\n",
    "    else:\n",
    "        lex_val = rd.uniform(0, 0.1)\n",
    "    lex_col.append(lex_val*100)\n",
    "        \n",
    "print(\"Max Lex Similarity : {}\".format(max(lex_col)))\n",
    "\n",
    "class_frame['LexScore'] = pd.Series(lex_col, index=class_frame.index)\n",
    "\n",
    "#df1['e'] = Series(np.random.randn(sLength), index=df1.index)\n",
    "\n",
    "#print(class_frame)\n",
    "\n",
    "class_frame.to_csv('TotalAndLexScore.csv', index=None)"
   ]
  }
 ],
 "metadata": {
  "kernelspec": {
   "display_name": "Python 2",
   "language": "python",
   "name": "python2"
  },
  "language_info": {
   "codemirror_mode": {
    "name": "ipython",
    "version": 2
   },
   "file_extension": ".py",
   "mimetype": "text/x-python",
   "name": "python",
   "nbconvert_exporter": "python",
   "pygments_lexer": "ipython2",
   "version": "2.7.12"
  }
 },
 "nbformat": 4,
 "nbformat_minor": 2
}
