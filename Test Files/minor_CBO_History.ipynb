{
 "cells": [
  {
   "cell_type": "code",
   "execution_count": 1,
   "metadata": {
    "collapsed": false,
    "deletable": true,
    "editable": true
   },
   "outputs": [
    {
     "name": "stderr",
     "output_type": "stream",
     "text": [
      "/usr/local/lib/python2.7/dist-packages/ipykernel_launcher.py:5: DeprecationWarning: the sets module is deprecated\n",
      "  \"\"\"\n"
     ]
    },
    {
     "name": "stdout",
     "output_type": "stream",
     "text": [
      "Number of graph edges : 51229\n",
      "Number of distinct classes : 6441\n",
      "Number of graph nodes : 6441\n"
     ]
    }
   ],
   "source": [
    "import numpy as np\n",
    "import pandas as pd\n",
    "import matplotlib.pyplot as plt\n",
    "import networkx as nx\n",
    "from sets import Set\n",
    "import random as rd\n",
    "\n",
    "\n",
    "def generateGraph(graph_pts, graph_dict):\n",
    "    ''' Function to construct the graph using graph points and dictionary.\n",
    "    We make use of NetworkX Graph library for python 2.\n",
    "    '''\n",
    "\n",
    "    G = nx.Graph()\n",
    "\n",
    "    for a, b, wt in graph_pts:\n",
    "        G.add_edge(graph_dict[a], graph_dict[b], weight=int(wt))\n",
    "        \n",
    "    return G\n",
    "\n",
    "\n",
    "graph_pts = np.genfromtxt('output.txt', dtype=None)\n",
    "\n",
    "\n",
    "### Now, create a list of all edges that will be in the graph\n",
    "new_graph_edges = []\n",
    "\n",
    "for i in np.arange(0, graph_pts.shape[0]):\n",
    "    \n",
    "    temp_str = graph_pts[i][1]\n",
    "    s1, s2, s3 = temp_str.rpartition('.')\n",
    "    \n",
    "    # Any '*' import is not considered since it is a generic import\n",
    "    if s3 == \"*\":\n",
    "    \tcontinue\n",
    "\n",
    "    j1, j2, j3 = s1.partition('.')\n",
    "    t1, t2, t3 = graph_pts[i][0].rpartition('.')\n",
    "    \n",
    "    # Any imports of kind 'java.something something' are not considered\n",
    "    if j1 != \"java\" :\n",
    "        new_graph_edges.append([t1, s3, int(1)])\n",
    "\n",
    "\n",
    "\n",
    "final_graph_edges = np.asarray(new_graph_edges)\n",
    "    \n",
    "np.savetxt('new_graph_edges.txt', final_graph_edges, delimiter='\\t', fmt=\"%s\")\n",
    "\n",
    "\n",
    "### Make a dictionary for all classes, so that it is easier to access\n",
    "\n",
    "set_temp = Set()\n",
    "\n",
    "for i,j,wt in final_graph_edges:\n",
    "    set_temp.add(i)\n",
    "    set_temp.add(j)\n",
    "\n",
    "print(\"Number of graph edges : {}\".format(final_graph_edges.shape[0]))\n",
    "print(\"Number of distinct classes : {}\".format(len(set_temp)))\n",
    "\n",
    "graph_pts_dict = {}\n",
    "reverse_graph_pts_dict = {}\n",
    "temp_class_list = []\n",
    "for num, class_name in enumerate(set_temp):\n",
    "    graph_pts_dict[class_name] = num\n",
    "    reverse_graph_pts_dict[num] = class_name\n",
    "    temp_class_list.append([num, class_name])\n",
    "\n",
    "class_list = np.asarray(temp_class_list)\n",
    "np.savetxt('class_list.txt', class_list, delimiter='\\t', fmt=\"%s\")\n",
    "\n",
    "\n",
    "### Now, construct the actual graph\n",
    "\n",
    "G = generateGraph(final_graph_edges, graph_pts_dict)\n",
    "\n",
    "print(\"Number of graph nodes : {}\".format(len(G.nodes())))\n",
    "\n",
    "\n",
    "### Find coupling metric value (CBO - Coupling Between Objects)for each class\n",
    "node_weight = []\n",
    "\n",
    "for node in G.nodes():\n",
    "\tnode_weight.append([node, reverse_graph_pts_dict[node], len(G[node])])\n",
    "\n",
    "node_weight_dtype = [('node1', int), ('node2', str), ('edge_count', int)]\n",
    "node_weight = sorted(node_weight, key=lambda a_entry: a_entry[1])\n",
    "node_weight_np = np.asarray(node_weight)\n",
    "np.savetxt('class_weight.txt', node_weight, delimiter='\\t', fmt=\"%s\")\n"
   ]
  },
  {
   "cell_type": "code",
   "execution_count": 40,
   "metadata": {
    "collapsed": false,
    "deletable": true,
    "editable": true
   },
   "outputs": [],
   "source": [
    "### Distrubution graph of number of nodes vs CBO value\n",
    "\n",
    "CBO_Vals, counts = np.unique(ar=node_weight_np[:,2].astype(int), return_counts=True)\n",
    "#node_weight = sorted(node_weight, key=lambda a_entry: a_entry[2])\n",
    "#zip(CBO_Vals, counts)\n",
    "\n",
    "CBO_mtx = zip(CBO_Vals, counts)\n",
    "\n",
    "plt.figure(1)\n",
    "plt.plot(CBO_Vals, counts)\n",
    "plt.xlabel('CBO score')\n",
    "plt.ylabel('No. of classes')\n",
    "plt.title('Distribution curve of CBO score')\n",
    "plt.savefig('dist.png')\n",
    "#plt.show()"
   ]
  },
  {
   "cell_type": "code",
   "execution_count": 72,
   "metadata": {
    "collapsed": false
   },
   "outputs": [
    {
     "name": "stdout",
     "output_type": "stream",
     "text": [
      "Number of distinct classes with a history : 6298\n",
      "Number of classes in CBO List : 6441\n",
      "Number of classes in History List : 6441\n",
      "100.0\n",
      "WorkbenchMessages\n"
     ]
    }
   ],
   "source": [
    "### Now, calculate and store History score of all classes\n",
    "f = open('HistoryScore.txt')\n",
    "\n",
    "history_pts = []\n",
    "\n",
    "for line in f:\n",
    "    #print line\n",
    "    p1, p2, p3 = line.partition('--------')\n",
    "    if p3 == '':\n",
    "        continue\n",
    "    history_pts.append([p1, int(p3)])\n",
    "\n",
    "history_pts_np = np.asarray(history_pts)\n",
    "\n",
    "print(\"Number of distinct classes with a history : {}\".format(history_pts_np.shape[0]))\n",
    "#print(history_pts_np)\n",
    "\n",
    "history_edges = []\n",
    "history_dict = {}\n",
    "for i in np.arange(0, history_pts_np.shape[0]):\n",
    "    s1, s2, s3 = history_pts[i][0].rpartition('/')\n",
    "    t1, t2, t3 = s3.rpartition('.')\n",
    "    temp_val = history_pts_np[i][1]\n",
    "    history_dict[t1] = float(temp_val)\n",
    "\n",
    "    \n",
    "max_val = max(history_dict.values())\n",
    "min_val = min(history_dict.values())\n",
    "\n",
    "for i in history_dict:\n",
    "    history_dict[i] = float((history_dict[i] - min_val)/(max_val-min_val)*100)\n",
    "    \n",
    "for node_no, class_name, class_CBO in node_weight_np:\n",
    "    if class_name in history_dict.keys():\n",
    "        history_edges.append([class_name, history_dict[class_name]])\n",
    "    else:\n",
    "        history_edges.append([class_name, 0])\n",
    "\n",
    "history_edges_np = np.array(history_edges)\n",
    "history_edges_np.reshape(len(history_edges), 2)\n",
    "np.savetxt('history_list.txt', history_edges_np, delimiter='\\t', fmt=\"%s\")\n",
    "\n",
    "print(\"Number of classes in CBO List : {}\".format(node_weight_np.shape[0]))\n",
    "print(\"Number of classes in History List : {}\".format(history_edges_np.shape[0]))\n",
    "\n",
    "print(max(history_dict.values()))\n",
    "print(max(history_dict, key=history_dict.get))\n"
   ]
  },
  {
   "cell_type": "code",
   "execution_count": 70,
   "metadata": {
    "collapsed": false
   },
   "outputs": [
    {
     "data": {
      "image/png": "[encoded data removed]",
      "text/plain": [
       "<matplotlib.figure.Figure at 0x7f5cfc471f50>"
      ]
     },
     "metadata": {},
     "output_type": "display_data"
    }
   ],
   "source": [
    "### Distrubution graph of number of nodes vs History value\n",
    "\n",
    "History_Vals, counts = np.unique(ar=history_edges_np[:,1].astype(float), return_counts=True)\n",
    "\n",
    "History_mtx = zip(History_Vals, counts)\n",
    "\n",
    "plt.figure(2)\n",
    "plt.plot(History_Vals, counts)\n",
    "plt.xlabel('History score')\n",
    "plt.ylabel('No. of classes')\n",
    "plt.title('Distribution curve of History score')\n",
    "plt.savefig('dist_history.png')\n",
    "plt.show()"
   ]
  }
 ],
 "metadata": {
  "kernelspec": {
   "display_name": "Python 2",
   "language": "python",
   "name": "python2"
  },
  "language_info": {
   "codemirror_mode": {
    "name": "ipython",
    "version": 2
   },
   "file_extension": ".py",
   "mimetype": "text/x-python",
   "name": "python",
   "nbconvert_exporter": "python",
   "pygments_lexer": "ipython2",
   "version": "2.7.12"
  }
 },
 "nbformat": 4,
 "nbformat_minor": 2
}
